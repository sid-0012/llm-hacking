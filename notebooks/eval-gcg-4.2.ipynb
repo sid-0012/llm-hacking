{
 "cells": [
  {
   "cell_type": "code",
   "execution_count": 1,
   "id": "1d98b129-4cd1-4fc4-9145-7f85fcbfc1c9",
   "metadata": {
    "ExecuteTime": {
     "end_time": "2024-12-05T08:01:00.628180Z",
     "start_time": "2024-12-05T08:00:54.043977Z"
    }
   },
   "outputs": [],
   "source": [
    "import os\n",
    "#os.environ['CUDA_VISIBLE_DEVICES'] = '7'\n",
    "\n",
    "from datasets import load_dataset\n",
    "\n",
    "import torch\n",
    "from torch.utils.data import Dataset\n",
    "\n",
    "import numpy as np\n",
    "from sklearn.decomposition import PCA\n",
    "import matplotlib.pyplot as plt\n",
    "from tqdm import tqdm\n",
    "import re\n",
    "\n",
    "from transformers import BertModel, BertTokenizer\n",
    "\n",
    "DEVICE = 'cuda' if torch.cuda.is_available() else 'cpu'"
   ]
  },
  {
   "cell_type": "markdown",
   "id": "52f75ffd-6cec-4301-bc8e-e29631a875ef",
   "metadata": {},
   "source": [
    "## Load Data"
   ]
  },
  {
   "cell_type": "code",
   "execution_count": 2,
   "id": "b0c70b9c-f2d5-4c71-a645-0df3eeb372ce",
   "metadata": {
    "ExecuteTime": {
     "end_time": "2024-12-05T08:01:12.543596Z",
     "start_time": "2024-12-05T08:01:12.109517Z"
    }
   },
   "outputs": [],
   "source": [
    "bert = BertModel.from_pretrained('google-bert/bert-base-uncased').to(DEVICE)\n",
    "bert_tokenizer = BertTokenizer.from_pretrained('google-bert/bert-base-uncased')\n",
    "base_embeddings = bert.embeddings"
   ]
  },
  {
   "cell_type": "code",
   "execution_count": 3,
   "id": "07edba36-0299-40b8-91e2-f3367264a4c2",
   "metadata": {
    "ExecuteTime": {
     "end_time": "2024-12-05T08:01:12.548681Z",
     "start_time": "2024-12-05T08:01:12.544533Z"
    }
   },
   "outputs": [],
   "source": [
    "DATA_FILE = '../data-output/embeddings.pt'"
   ]
  },
  {
   "cell_type": "code",
   "execution_count": 4,
   "id": "f67c61cc-3fbd-464c-969d-90d291466771",
   "metadata": {
    "ExecuteTime": {
     "end_time": "2024-12-05T08:01:12.564111Z",
     "start_time": "2024-12-05T08:01:12.549677Z"
    }
   },
   "outputs": [],
   "source": [
    "def get_document_embeddings(docs_str):\n",
    "    embds = []\n",
    "    for doc in docs_str:\n",
    "        tok = bert_tokenizer(doc, return_tensors='pt').to(DEVICE)\n",
    "        with torch.inference_mode():\n",
    "            out = bert(**tok)\n",
    "        embds.append(out['last_hidden_state'][:, 0])\n",
    "    return torch.cat(embds, dim=0)"
   ]
  },
  {
   "cell_type": "code",
   "execution_count": 5,
   "id": "0191e523-ab4f-4c82-913b-8b50b8622502",
   "metadata": {
    "ExecuteTime": {
     "end_time": "2024-12-05T08:01:12.577445Z",
     "start_time": "2024-12-05T08:01:12.565793Z"
    }
   },
   "outputs": [
    {
     "data": {
      "text/plain": [
       "'[CLS] this is a test [SEP]'"
      ]
     },
     "execution_count": 5,
     "metadata": {},
     "output_type": "execute_result"
    }
   ],
   "source": [
    "bert_tokenizer.decode(bert_tokenizer('THIS IS A TEST')['input_ids'])"
   ]
  },
  {
   "cell_type": "code",
   "execution_count": 6,
   "id": "33903be8-c523-401c-a2dd-6829d615b6e7",
   "metadata": {
    "ExecuteTime": {
     "end_time": "2024-12-05T08:01:15.000816Z",
     "start_time": "2024-12-05T08:01:12.589201Z"
    }
   },
   "outputs": [],
   "source": [
    "data = torch.load(DATA_FILE, weights_only=True)\n",
    "\n",
    "questions = data['questions']\n",
    "embds_q = data['question_embeddings'].to(DEVICE)\n",
    "\n",
    "documents = data['documents']\n",
    "embds_d = get_document_embeddings(documents)"
   ]
  },
  {
   "cell_type": "code",
   "execution_count": 7,
   "id": "c36d4fb3-2fe3-4bdf-8a05-debc99b5165b",
   "metadata": {
    "ExecuteTime": {
     "end_time": "2024-12-05T08:01:15.060313Z",
     "start_time": "2024-12-05T08:01:15.055488Z"
    }
   },
   "outputs": [
    {
     "name": "stdout",
     "output_type": "stream",
     "text": [
      "What are the main topics covered in CSE 227: Graduate Computer Security?\n",
      "**************************************************\n",
      "['Lectures: Tuesday/Thursday 11:00am-12:20pm PODEM 1A20', 'Instructor: Earlence Fernandes, Office hours: Tue 2pm to 3pm, CSE 3244', 'TA: Nishit Pandya, Office Hours: Wed 4pm to 5pm, CSE B240A.', 'Class Resources: Submissions on HotCRP; Lecture schedule, readings, and course policies on this web page', 'Grading: 80%: Course Research Project; 10%: In-person Quiz; 10%: Final Project Presentation', 'Course Overview: This course is on graduate-level computer security, focusing on the software systems foundations of building secure computer systems. We will read a mix of classic and new papers in the field and will cover a range of topics from trusted computing, operating systems, web/cloud systems, and machine learning. Our goal is to illustrate research challenges and solutions. It is not designed to be a tutorial course, but rather to give students the context to understand current security research and evaluate their interest in the field. The course will examine both the defensive and offensive side of the field. At the conclusion of the course, the students will have the foundation to conduct research in computer security and to apply the latest security research to a particular area of practice.', 'Note to undergrad and professional MS students: This course is research heavy. It is unlike other courses you\\'ve encountered in your career where there are a fixed set of topics with exams and specific skills to learn. Rather, we will be reading papers and discussing/analyzing those papers. Your primary performance will be based on your ability to formulate and tackle research problems in computer security. A quick way to judge whether taking this course is beneficial for your learning is to read a sample paper and ask yourself, \"would I be interested in writing such a paper myself?\"', 'Pandemic Considerations: This is an in person class. Please do not come to class or exams if you are sick. I will handle requests for remote attendance on a case-by-case basis and I may not grant all requests.', 'Research Project: You will work on projects in groups of 2-4. The goal of the project is to conduct original research in Computer Security. You are encouraged to come up with your own project idea, but we have a few ideas that are well-scoped for a quarter project. Talk with me to scope out a project. The project will require a 1-page project proposal containing: (1) What problem you are tackling; (2) Why that problem is worth tackling; (3) The expected contributions to the science of computer security. This will be due by the second or third week of the quarter. At the end of the quarter, you are expected to turn in a short research paper (max 6 pages; two column format) and give a 15 minute talk. We will have periodic status updates to help you stay on track. The project is 80% of your course grade. I recommend that you take this seriously from the start. I especially value projects that are publication-worthy.', \"Quiz: We will have up to 2 papers per session. You have to read these in detail and should come prepared to discuss the paper. Your goal is to be able to perform a critical evaluation of the following: (1) what is the problem area of the paper; (2) Why is that problem area important; (3) What is the paper's approach; (4) Did the paper do a good job solving the problem; (5) What is the broader context/related work within which this paper's contributions exist; (6) Your thoughts on future work. As the start of every class, there will be a quiz with 1-2 questions that test your understanding of the paper. We will use Google Forms hosted at UCSD (sign-in required) to manage the quiz. A QR code and link will be shared at the start of each class. This quiz is in-person only. If you miss it, there is no make up option. Please ensure you bring a laptop (or equivalent device) to take the quiz. If you do not have computing equipment, talk to me after the first class. There will not be any quiz for the first class.\", 'By taking this course, you implicitly agree to abide by the UCSD policies on Integrity of Scholarship and Student Conduct. See the Academic Integrity Support for Remote Learning. University rules on integrity of scholarship and code of conduct are taken seriously and will be enforced.']\n"
     ]
    }
   ],
   "source": [
    "print(questions[0])\n",
    "print('*'*50)\n",
    "print(documents)"
   ]
  },
  {
   "cell_type": "markdown",
   "id": "6b865073-b578-48b6-b208-8e0dbdae4e3f",
   "metadata": {},
   "source": [
    "## Evaluate"
   ]
  },
  {
   "cell_type": "code",
   "execution_count": 8,
   "id": "f29057eb-a7d6-4b24-a309-c4f5d150171b",
   "metadata": {
    "ExecuteTime": {
     "end_time": "2024-12-05T09:27:42.508471Z",
     "start_time": "2024-12-05T09:27:42.500985Z"
    }
   },
   "outputs": [],
   "source": [
    "argmaxs = [5443,\n",
    " 29336,\n",
    " 8751,\n",
    " 10253,\n",
    " 15549,\n",
    " 21823,\n",
    " 29469,\n",
    " 29662,\n",
    " 23094,\n",
    " 26557,\n",
    " 22447,\n",
    " 14321,\n",
    " 23479,\n",
    " 20282,\n",
    " 14045,\n",
    " 24409,\n",
    " 15150,\n",
    " 14482,\n",
    " 12516,\n",
    " 12162,\n",
    " 23041,\n",
    " 23738,\n",
    " 21493,\n",
    " 12565,\n",
    " 16402,\n",
    " 1525,\n",
    " 1585,\n",
    " 29469,\n",
    " 27401,\n",
    " 16501,\n",
    " 16643,\n",
    " 16451]"
   ]
  },
  {
   "cell_type": "code",
   "execution_count": 9,
   "id": "14ddc4b2-ed82-4aad-b5f1-735d7d465d97",
   "metadata": {
    "ExecuteTime": {
     "end_time": "2024-12-05T08:58:11.870078Z",
     "start_time": "2024-12-05T08:58:11.860021Z"
    }
   },
   "outputs": [
    {
     "data": {
      "text/plain": [
       "'vstatlieoryquiutitoriº guantanamotecesacletologyiolsomeachalldarialtationontmunmisttralgraphyiver „ →toritness universidadstitern'"
      ]
     },
     "execution_count": 9,
     "metadata": {},
     "output_type": "execute_result"
    }
   ],
   "source": [
    "bert_tokenizer.decode(argmaxs)"
   ]
  },
  {
   "cell_type": "code",
   "execution_count": 10,
   "id": "a6c93e8e-407f-42ef-bf51-c64580c5c35d",
   "metadata": {},
   "outputs": [
    {
     "data": {
      "text/plain": [
       "['vs',\n",
       " '##tat',\n",
       " '##lie',\n",
       " '##ory',\n",
       " '##qui',\n",
       " '##uti',\n",
       " '##tori',\n",
       " '##º',\n",
       " 'guantanamo',\n",
       " '##tec',\n",
       " '##esa',\n",
       " '##cle',\n",
       " '##tology',\n",
       " '##iol',\n",
       " '##some',\n",
       " '##achal',\n",
       " '##lda',\n",
       " '##rial',\n",
       " '##tation',\n",
       " '##ont',\n",
       " '##mun',\n",
       " '##mist',\n",
       " '##tral',\n",
       " '##graphy',\n",
       " '##iver',\n",
       " '„',\n",
       " '→',\n",
       " '##tori',\n",
       " '##tness',\n",
       " 'universidad',\n",
       " '##sti',\n",
       " '##tern']"
      ]
     },
     "execution_count": 10,
     "metadata": {},
     "output_type": "execute_result"
    }
   ],
   "source": [
    "pre_tokens = [bert_tokenizer.decode(i) for i in argmaxs]\n",
    "pre_tokens"
   ]
  },
  {
   "cell_type": "code",
   "execution_count": 11,
   "id": "4ff3621d-9bd6-491d-aed6-fefd4ef65e25",
   "metadata": {},
   "outputs": [
    {
     "data": {
      "text/plain": [
       "['vs',\n",
       " '##tat',\n",
       " '##lie',\n",
       " '##ory',\n",
       " '##qui',\n",
       " '##uti',\n",
       " '##tori',\n",
       " '##º',\n",
       " 'guantanamo',\n",
       " '##tec',\n",
       " '##esa',\n",
       " '##cle',\n",
       " '##tology',\n",
       " '##iol',\n",
       " '##some',\n",
       " '##achal',\n",
       " '##lda',\n",
       " '##rial',\n",
       " '##tation',\n",
       " '##ont',\n",
       " '##mun',\n",
       " '##mist',\n",
       " '##tral',\n",
       " '##graphy',\n",
       " '##iver',\n",
       " '„',\n",
       " '→',\n",
       " '##tori',\n",
       " '##tness',\n",
       " 'universidad',\n",
       " '##sti',\n",
       " '##tern']"
      ]
     },
     "execution_count": 11,
     "metadata": {},
     "output_type": "execute_result"
    }
   ],
   "source": [
    "post_tokens = [bert_tokenizer.decode(i) for i in (bert_tokenizer(bert_tokenizer.decode(argmaxs))['input_ids'][1:-1])]\n",
    "post_tokens"
   ]
  },
  {
   "cell_type": "code",
   "execution_count": 12,
   "id": "6319fa08-02d9-402a-8ddc-922febab44e5",
   "metadata": {},
   "outputs": [],
   "source": [
    "assert pre_tokens == post_tokens"
   ]
  },
  {
   "cell_type": "code",
   "execution_count": 13,
   "id": "d2785439-744b-40b1-bfff-80538cc5e93f",
   "metadata": {},
   "outputs": [],
   "source": [
    "def get_dist_loss(target_embd):\n",
    "    def dist_loss(doc_embd):\n",
    "        return -(doc_embd @ target_embd.T).mean()\n",
    "    return dist_loss"
   ]
  },
  {
   "cell_type": "code",
   "execution_count": 14,
   "id": "90917f1c-b4d1-4dff-81e0-05ce2b3fd547",
   "metadata": {
    "ExecuteTime": {
     "end_time": "2024-12-05T08:58:27.864020Z",
     "start_time": "2024-12-05T08:58:27.566534Z"
    }
   },
   "outputs": [],
   "source": [
    "bert_fresh = BertModel.from_pretrained('google-bert/bert-base-uncased').to(DEVICE)"
   ]
  },
  {
   "cell_type": "code",
   "execution_count": 15,
   "id": "1f955ee547a76ff6",
   "metadata": {
    "ExecuteTime": {
     "end_time": "2024-12-05T08:58:28.755597Z",
     "start_time": "2024-12-05T08:58:28.749050Z"
    }
   },
   "outputs": [
    {
     "data": {
      "text/plain": [
       "'What are the main topics covered in CSE 227: Graduate Computer Security?'"
      ]
     },
     "execution_count": 15,
     "metadata": {},
     "output_type": "execute_result"
    }
   ],
   "source": [
    "questions[0]"
   ]
  },
  {
   "cell_type": "code",
   "execution_count": 16,
   "id": "189b9c60237a9bb6",
   "metadata": {
    "ExecuteTime": {
     "end_time": "2024-12-05T08:58:29.889825Z",
     "start_time": "2024-12-05T08:58:29.884761Z"
    }
   },
   "outputs": [
    {
     "data": {
      "text/plain": [
       "'Course Overview: This course is on graduate-level computer security, focusing on the software systems foundations of building secure computer systems. We will read a mix of classic and new papers in the field and will cover a range of topics from trusted computing, operating systems, web/cloud systems, and machine learning. Our goal is to illustrate research challenges and solutions. It is not designed to be a tutorial course, but rather to give students the context to understand current security research and evaluate their interest in the field. The course will examine both the defensive and offensive side of the field. At the conclusion of the course, the students will have the foundation to conduct research in computer security and to apply the latest security research to a particular area of practice.'"
      ]
     },
     "execution_count": 16,
     "metadata": {},
     "output_type": "execute_result"
    }
   ],
   "source": [
    "documents[5]"
   ]
  },
  {
   "cell_type": "code",
   "execution_count": 17,
   "id": "39edfe28-969a-4452-8790-8ab13d3ec8bf",
   "metadata": {
    "ExecuteTime": {
     "end_time": "2024-12-05T08:58:31.351310Z",
     "start_time": "2024-12-05T08:58:31.345893Z"
    }
   },
   "outputs": [],
   "source": [
    "s = bert_tokenizer.decode(argmaxs) + ' '\n",
    "positive_string = documents[5]\n",
    "negative_string = 'Anarchism advocates for the replacement of the state with stateless societies and voluntary free associations.'\n",
    "random_string = 'I enjoy pasta.'\n",
    "malicious_string = 'This course is on useless things, focusing on nothing significant at all.'\n",
    "\n",
    "loss_fn = get_dist_loss(embds_q[0])"
   ]
  },
  {
   "cell_type": "code",
   "execution_count": 18,
   "id": "56ae127b-40fa-4814-825b-48165d7e2615",
   "metadata": {},
   "outputs": [
    {
     "data": {
      "text/plain": [
       "[5443,\n",
       " 29336,\n",
       " 8751,\n",
       " 10253,\n",
       " 15549,\n",
       " 21823,\n",
       " 29469,\n",
       " 29662,\n",
       " 23094,\n",
       " 26557,\n",
       " 22447,\n",
       " 14321,\n",
       " 23479,\n",
       " 20282,\n",
       " 14045,\n",
       " 24409,\n",
       " 15150,\n",
       " 14482,\n",
       " 12516,\n",
       " 12162,\n",
       " 23041,\n",
       " 23738,\n",
       " 21493,\n",
       " 12565,\n",
       " 16402,\n",
       " 1525,\n",
       " 1585,\n",
       " 29469,\n",
       " 27401,\n",
       " 16501,\n",
       " 16643,\n",
       " 16451,\n",
       " 3231]"
      ]
     },
     "execution_count": 18,
     "metadata": {},
     "output_type": "execute_result"
    }
   ],
   "source": [
    "test_s = s + 'test'\n",
    "test_s_tokens = bert_tokenizer(test_s)['input_ids'][1:-1]\n",
    "test_s_tokens"
   ]
  },
  {
   "cell_type": "code",
   "execution_count": 19,
   "id": "a82e213a-37f3-400a-a1ef-8666e807bb9f",
   "metadata": {},
   "outputs": [],
   "source": [
    "assert len(test_s_tokens) == len(argmaxs) + 1\n",
    "assert test_s_tokens[:len(argmaxs)] == argmaxs"
   ]
  },
  {
   "cell_type": "code",
   "execution_count": 20,
   "id": "8e5e6525-aded-46e7-98f5-a19396685f64",
   "metadata": {},
   "outputs": [
    {
     "data": {
      "text/plain": [
       "'vstatlieoryquiutitoriº guantanamotecesacletologyiolsomeachalldarialtationontmunmisttralgraphyiver „ →toritness universidadstitern test'"
      ]
     },
     "execution_count": 20,
     "metadata": {},
     "output_type": "execute_result"
    }
   ],
   "source": [
    "bert_tokenizer.decode(test_s_tokens)"
   ]
  },
  {
   "cell_type": "code",
   "execution_count": 21,
   "id": "52fd6122-d803-4da1-ba59-0090240d590d",
   "metadata": {},
   "outputs": [
    {
     "data": {
      "text/plain": [
       "['vs',\n",
       " '##tat',\n",
       " '##lie',\n",
       " '##ory',\n",
       " '##qui',\n",
       " '##uti',\n",
       " '##tori',\n",
       " '##º',\n",
       " 'guantanamo',\n",
       " '##tec',\n",
       " '##esa',\n",
       " '##cle',\n",
       " '##tology',\n",
       " '##iol',\n",
       " '##some',\n",
       " '##achal',\n",
       " '##lda',\n",
       " '##rial',\n",
       " '##tation',\n",
       " '##ont',\n",
       " '##mun',\n",
       " '##mist',\n",
       " '##tral',\n",
       " '##graphy',\n",
       " '##iver',\n",
       " '„',\n",
       " '→',\n",
       " '##tori',\n",
       " '##tness',\n",
       " 'universidad',\n",
       " '##sti',\n",
       " '##tern',\n",
       " 'test']"
      ]
     },
     "execution_count": 21,
     "metadata": {},
     "output_type": "execute_result"
    }
   ],
   "source": [
    "[bert_tokenizer.decode(i) for i in test_s_tokens]"
   ]
  },
  {
   "cell_type": "code",
   "execution_count": 22,
   "id": "f1967038-8110-482a-b5f4-a5e020ef06b6",
   "metadata": {
    "ExecuteTime": {
     "end_time": "2024-12-05T08:58:33.016989Z",
     "start_time": "2024-12-05T08:58:33.012480Z"
    }
   },
   "outputs": [],
   "source": [
    "def get_score(input_string):\n",
    "    inputs = bert_tokenizer(input_string, return_tensors='pt').to(DEVICE)\n",
    "    with torch.inference_mode():\n",
    "        ex_embedding = bert_fresh(**inputs)['last_hidden_state'][0, 0]\n",
    "\n",
    "    return -loss_fn(ex_embedding).cpu().item()\n",
    "    "
   ]
  },
  {
   "cell_type": "code",
   "execution_count": 23,
   "id": "90926591-e6c5-476d-a391-9275944a5cc9",
   "metadata": {
    "ExecuteTime": {
     "end_time": "2024-12-05T08:58:34.637731Z",
     "start_time": "2024-12-05T08:58:33.599317Z"
    }
   },
   "outputs": [
    {
     "name": "stderr",
     "output_type": "stream",
     "text": [
      "/tmp/ipykernel_659985/2474734044.py:3: UserWarning: The use of `x.T` on tensors of dimension other than 2 to reverse their shape is deprecated and it will throw an error in a future release. Consider `x.mT` to transpose batches of matrices or `x.permute(*torch.arange(x.ndim - 1, -1, -1))` to reverse the dimensions of a tensor. (Triggered internally at ../aten/src/ATen/native/TensorShape.cpp:3683.)\n",
      "  return -(doc_embd @ target_embd.T).mean()\n"
     ]
    }
   ],
   "source": [
    "positive_score = get_score(positive_string)\n",
    "negative_score = get_score(negative_string)\n",
    "random_score = get_score(random_string)\n",
    "malicious_score = get_score(malicious_string)\n",
    "adversarial_negative_score = get_score(s + negative_string)\n",
    "adversarial_random_score = get_score(s + random_string)\n",
    "adversarial_malicious_score = get_score(s + malicious_string)"
   ]
  },
  {
   "cell_type": "code",
   "execution_count": 24,
   "id": "56aae785-5caa-4523-972d-5f02e5a08387",
   "metadata": {
    "ExecuteTime": {
     "end_time": "2024-12-05T08:58:35.435725Z",
     "start_time": "2024-12-05T08:58:35.427462Z"
    }
   },
   "outputs": [
    {
     "name": "stdout",
     "output_type": "stream",
     "text": [
      "POSITIVE SCORE:\t\t 36.04314422607422\n",
      "**************************************************\n",
      "NEGATIVE SCORE:\t\t 15.650203704833984\n",
      "ADV NEGATIVE SCORE:\t 41.704750061035156\n",
      "RANDOM SCORE:\t\t 15.437542915344238\n",
      "ADV RANDOM SCORE:\t 43.74290084838867\n",
      "MALICIOUS SCORE:\t 20.22722053527832\n",
      "ADV MALICIOUS SCORE:\t 42.98367691040039\n"
     ]
    }
   ],
   "source": [
    "print('POSITIVE SCORE:\\t\\t', positive_score)\n",
    "print('*'*50)\n",
    "print('NEGATIVE SCORE:\\t\\t', negative_score)\n",
    "print('ADV NEGATIVE SCORE:\\t', adversarial_negative_score)\n",
    "print('RANDOM SCORE:\\t\\t', random_score)\n",
    "print('ADV RANDOM SCORE:\\t', adversarial_random_score)\n",
    "print('MALICIOUS SCORE:\\t', malicious_score)\n",
    "print('ADV MALICIOUS SCORE:\\t', adversarial_malicious_score)"
   ]
  },
  {
   "cell_type": "markdown",
   "id": "288572bb-5150-413a-af0f-b9e7d9c76481",
   "metadata": {},
   "source": [
    "## Visualize"
   ]
  },
  {
   "cell_type": "code",
   "execution_count": 25,
   "id": "2ca42f197047d493",
   "metadata": {},
   "outputs": [],
   "source": [
    "# our negatives are going to be arbitrary passages mined from wikipedia\n",
    "\n",
    "class TextChunkDataset(Dataset):\n",
    "    def __init__(self, data, chunk_size=128, limit=1000):\n",
    "        \"\"\"\n",
    "        Initializes the dataset.\n",
    "        Args:\n",
    "            data (list): List of dictionaries with text data.\n",
    "            chunk_size (int): Length of each text chunk.\n",
    "        \"\"\"\n",
    "        self.chunks = []\n",
    "        self.chunk_size = chunk_size\n",
    "\n",
    "        for i, entry in enumerate(tqdm(data)):\n",
    "            text = entry['text']\n",
    "            chunks = [f\"{p.strip()}.\" for p in re.split(r'\\.\\s', text) if len(p) >= 30 and len(p) < 400]\n",
    "            self.chunks.extend(chunks)\n",
    "            # self.chunks.extend(\n",
    "            #     [text[i:i + chunk_size] for i in range(0, len(text), chunk_size)]\n",
    "            # )\n",
    "            if i >= limit:\n",
    "                break\n",
    "\n",
    "    def __len__(self):\n",
    "        return len(self.chunks)\n",
    "\n",
    "    def __getitem__(self, idx):\n",
    "        return self.chunks[idx]"
   ]
  },
  {
   "cell_type": "code",
   "execution_count": 26,
   "id": "4b584b86-2a4b-4aba-b6be-b892572f99a0",
   "metadata": {},
   "outputs": [
    {
     "data": {
      "application/vnd.jupyter.widget-view+json": {
       "model_id": "a788666a16e04713b371869c3b240236",
       "version_major": 2,
       "version_minor": 0
      },
      "text/plain": [
       "Resolving data files:   0%|          | 0/41 [00:00<?, ?it/s]"
      ]
     },
     "metadata": {},
     "output_type": "display_data"
    },
    {
     "data": {
      "application/vnd.jupyter.widget-view+json": {
       "model_id": "1f971aee8a134eaf9ff167af952af7fc",
       "version_major": 2,
       "version_minor": 0
      },
      "text/plain": [
       "Loading dataset shards:   0%|          | 0/41 [00:00<?, ?it/s]"
      ]
     },
     "metadata": {},
     "output_type": "display_data"
    }
   ],
   "source": [
    "ds = load_dataset(\"wikimedia/wikipedia\", \"20231101.en\")['train']"
   ]
  },
  {
   "cell_type": "code",
   "execution_count": 27,
   "id": "1218ef54-282c-46a3-9c47-a178d7dca040",
   "metadata": {},
   "outputs": [
    {
     "name": "stderr",
     "output_type": "stream",
     "text": [
      "\n",
      " 0%|                                                                                                                                                                    | 100/6407814 [00:00<38:14, 2793.00it/s]"
     ]
    },
    {
     "data": {
      "text/plain": [
       "'Various anarchist schools of thought formed during this period.'"
      ]
     },
     "execution_count": 27,
     "metadata": {},
     "output_type": "execute_result"
    }
   ],
   "source": [
    "ds_chunk = TextChunkDataset(ds, limit=100)\n",
    "ds_chunk[7]"
   ]
  },
  {
   "cell_type": "code",
   "execution_count": 28,
   "id": "e43744f6-585c-4a28-b46e-e3f5d2c1e128",
   "metadata": {},
   "outputs": [],
   "source": [
    "positive_strings = documents\n",
    "negative_strings = [ds_chunk[i] for i in range(len(documents))]\n",
    "adv_negative_strings = [s + n for n in negative_strings]"
   ]
  },
  {
   "cell_type": "code",
   "execution_count": 29,
   "id": "cc340b58-900d-4483-a9e5-f3b4a880d03b",
   "metadata": {},
   "outputs": [],
   "source": [
    "positive_scores = [get_score(positive_string) for positive_string in positive_strings]\n",
    "negative_scores = [get_score(negative_string) for negative_string in negative_strings]\n",
    "adversarial_negative_scores = [get_score(adv_negative_string) for adv_negative_string in adv_negative_strings]"
   ]
  },
  {
   "cell_type": "code",
   "execution_count": 30,
   "id": "6ebd7782-6342-404b-b52f-624b5a95862b",
   "metadata": {},
   "outputs": [
    {
     "name": "stdout",
     "output_type": "stream",
     "text": [
      "POSITIVE SCORE:\t\t [37.357688903808594, 31.657428741455078, 28.304149627685547, 30.994342803955078, 32.4543342590332, 36.04314422607422, 39.08478927612305, 29.70088768005371, 28.362987518310547, 30.851240158081055, 24.631359100341797]\n",
      "**************************************************\n",
      "NEGATIVE SCORES:\t\t [17.046539306640625, 15.650203704833984, 20.229124069213867, 22.80853271484375, 21.139307022094727, 14.322640419006348, 19.745166778564453, 23.266311645507812, 13.030973434448242, 18.98996353149414, 22.800556182861328]\n",
      "ADV NEGATIVE SCORES:\t [35.46366882324219, 41.704750061035156, 38.92134475708008, 45.48191833496094, 37.574153900146484, 39.960391998291016, 43.089202880859375, 45.4376335144043, 38.39607620239258, 38.539634704589844, 39.82670593261719]\n"
     ]
    }
   ],
   "source": [
    "print('POSITIVE SCORE:\\t\\t', positive_scores)\n",
    "print('*'*50)\n",
    "print('NEGATIVE SCORES:\\t\\t', negative_scores)\n",
    "print('ADV NEGATIVE SCORES:\\t', adversarial_negative_scores)"
   ]
  },
  {
   "cell_type": "code",
   "execution_count": 31,
   "id": "5d9c7a21-66db-4838-a464-977c0ba98ab5",
   "metadata": {},
   "outputs": [
    {
     "data": {
      "image/png": "[encoded data removed]",
      "text/plain": [
       "<Figure size 640x480 with 1 Axes>"
      ]
     },
     "metadata": {},
     "output_type": "display_data"
    }
   ],
   "source": [
    "label_positions = [1, 2, 3]\n",
    "score_lists = [positive_scores, negative_scores, adversarial_negative_scores]\n",
    "\n",
    "plt.violinplot(score_lists)\n",
    "\n",
    "plt.xticks(label_positions, ['relevant', 'irrelevant', 'adv prefix + irrelevant'])\n",
    "\n",
    "for label_pos, score_list in zip(label_positions, score_lists):\n",
    "    plt.scatter([label_pos]*len(score_list), score_list, color='b')\n",
    "\n",
    "plt.axhline(max(positive_scores), color='gray', linestyle=(0, (5, 5)))\n",
    "\n",
    "plt.show()"
   ]
  },
  {
   "cell_type": "code",
   "execution_count": 32,
   "id": "c48a2e53-8348-41c9-be5c-1d904d72c9b6",
   "metadata": {},
   "outputs": [],
   "source": [
    "embds_p = get_document_embeddings(positive_strings)\n",
    "embds_n = get_document_embeddings(negative_strings)\n",
    "embds_a = get_document_embeddings(adv_negative_strings)\n",
    "\n",
    "all_embds = torch.cat((embds_q, embds_p, embds_n), dim=0)\n",
    "\n",
    "n_q = embds_q.shape[0]\n",
    "n_p = embds_p.shape[0]\n",
    "\n",
    "projector = PCA(n_components=2)\n",
    "projections = projector.fit_transform(all_embds.cpu().numpy())\n",
    "\n",
    "projections_q, projections_p, projections_n = np.split(projections, np.cumsum([n_q, n_p]))\n",
    "projections_a = projector.transform(embds_a)"
   ]
  },
  {
   "cell_type": "code",
   "execution_count": 33,
   "id": "22f6ac79-95a6-400b-bf38-4a8e20edd910",
   "metadata": {},
   "outputs": [
    {
     "data": {
      "image/png": "[encoded data removed]",
      "text/plain": [
       "<Figure size 640x480 with 1 Axes>"
      ]
     },
     "metadata": {},
     "output_type": "display_data"
    }
   ],
   "source": [
    "plt.scatter(*zip(*projections_q), color='blue', label='questions')\n",
    "plt.scatter(*zip(*projections_p), color='red', label='relevant')\n",
    "plt.scatter(*zip(*projections_n), color='green', label='irrrelevant')\n",
    "plt.scatter(*zip(*projections_a), color='purple', label='adv prefix + irrrelevant')\n",
    "plt.xlabel('Component 1')\n",
    "plt.ylabel('Component 2')\n",
    "\n",
    "plt.legend()\n",
    "plt.show()"
   ]
  },
  {
   "cell_type": "code",
   "execution_count": null,
   "id": "12b2e560-0456-4fd3-9234-796bdb795d80",
   "metadata": {},
   "outputs": [],
   "source": []
  }
 ],
 "metadata": {
  "kernelspec": {
   "display_name": "Python 3 (ipykernel)",
   "language": "python",
   "name": "python3"
  },
  "language_info": {
   "codemirror_mode": {
    "name": "ipython",
    "version": 3
   },
   "file_extension": ".py",
   "mimetype": "text/x-python",
   "name": "python",
   "nbconvert_exporter": "python",
   "pygments_lexer": "ipython3",
   "version": "3.10.12"
  }
 },
 "nbformat": 4,
 "nbformat_minor": 5
}
