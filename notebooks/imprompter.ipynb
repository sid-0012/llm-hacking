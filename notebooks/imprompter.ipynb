{
 "cells": [
  {
   "cell_type": "markdown",
   "id": "ff227b21-15be-43c0-a480-443eb9a6aa30",
   "metadata": {},
   "source": [
    "## Imprompter\n",
    "\n",
    "\n",
    "#### Notebook Purpose\n",
    "\n",
    "Input: open-source LM ID.\n",
    "\n",
    "Output: obfuscated prompt for adversarial behavior.\n",
    "\n",
    "Draw from [paper source](https://github.com/Reapor-Yurnero/imprompter)\n",
    "\n",
    "#### TODO\n",
    "\n",
    "- Determine adversarial behaviors we want to elicit\n",
    "- "
   ]
  },
  {
   "cell_type": "code",
   "execution_count": null,
   "id": "b77a1cc6-090a-433f-ac21-fd351aef7be1",
   "metadata": {},
   "outputs": [],
   "source": []
  },
  {
   "cell_type": "code",
   "execution_count": null,
   "id": "0f4afb50-d8a3-48e2-a1ff-e00d26c7aa61",
   "metadata": {},
   "outputs": [],
   "source": []
  }
 ],
 "metadata": {
  "kernelspec": {
   "display_name": "Python 3 (ipykernel)",
   "language": "python",
   "name": "python3"
  },
  "language_info": {
   "codemirror_mode": {
    "name": "ipython",
    "version": 3
   },
   "file_extension": ".py",
   "mimetype": "text/x-python",
   "name": "python",
   "nbconvert_exporter": "python",
   "pygments_lexer": "ipython3",
   "version": "3.9.19"
  }
 },
 "nbformat": 4,
 "nbformat_minor": 5
}
