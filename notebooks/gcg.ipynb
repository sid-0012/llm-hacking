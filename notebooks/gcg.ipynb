{
 "cells": [
  {
   "cell_type": "code",
   "id": "1d98b129-4cd1-4fc4-9145-7f85fcbfc1c9",
   "metadata": {
    "ExecuteTime": {
     "end_time": "2024-12-05T04:07:25.712908Z",
     "start_time": "2024-12-05T04:07:19.962415Z"
    }
   },
   "source": [
    "import os\n",
    "#os.environ['CUDA_VISIBLE_DEVICES'] = '7'\n",
    "\n",
    "from datasets import load_dataset\n",
    "\n",
    "import torch\n",
    "import torch.nn as nn\n",
    "from torch.utils.data import Dataset, DataLoader\n",
    "from sklearn.decomposition import PCA\n",
    "from sklearn.manifold import TSNE\n",
    "import matplotlib.pyplot as plt\n",
    "from tqdm import tqdm\n",
    "import re\n",
    "import numpy as np\n",
    "# import wandb\n",
    "\n",
    "from transformers import BertModel, BertTokenizer\n",
    "from transformers.models.bert.modeling_bert import BertEmbeddings\n",
    "#from peft import get_peft_model, PrefixTuningConfig\n",
    "\n",
    "DEVICE = 'cuda' if torch.cuda.is_available() else 'cpu'"
   ],
   "outputs": [],
   "execution_count": 1
  },
  {
   "cell_type": "markdown",
   "id": "52f75ffd-6cec-4301-bc8e-e29631a875ef",
   "metadata": {},
   "source": [
    "## Load Data"
   ]
  },
  {
   "cell_type": "code",
   "id": "6588f79b-8179-4f03-a474-2ea813d14755",
   "metadata": {
    "ExecuteTime": {
     "end_time": "2024-12-05T04:07:25.720363Z",
     "start_time": "2024-12-05T04:07:25.713916Z"
    }
   },
   "source": [
    "# our negatives are going to be arbitrary passages mined from wikipedia\n",
    "\n",
    "class TextChunkDataset(Dataset):\n",
    "    def __init__(self, data, chunk_size=128, limit=1000):\n",
    "        \"\"\"\n",
    "        Initializes the dataset.\n",
    "        Args:\n",
    "            data (list): List of dictionaries with text data.\n",
    "            chunk_size (int): Length of each text chunk.\n",
    "        \"\"\"\n",
    "        self.chunks = []\n",
    "        self.chunk_size = chunk_size\n",
    "\n",
    "        for i, entry in enumerate(tqdm(data)):\n",
    "            text = entry['text']\n",
    "            chunks = [f\"{p.strip()}.\" for p in re.split(r'\\.\\s', text) if len(p) >= 30 and len(p) < 400]\n",
    "            self.chunks.extend(chunks)\n",
    "            # self.chunks.extend(\n",
    "            #     [text[i:i + chunk_size] for i in range(0, len(text), chunk_size)]\n",
    "            # )\n",
    "            if i >= limit:\n",
    "                break\n",
    "\n",
    "    def __len__(self):\n",
    "        return len(self.chunks)\n",
    "\n",
    "    def __getitem__(self, idx):\n",
    "        return self.chunks[idx]\n",
    "\n",
    "\n",
    "def get_dist_loss(target_embd):\n",
    "    def dist_loss(doc_embd):\n",
    "        return -(doc_embd @ target_embd.T).mean()\n",
    "    return dist_loss"
   ],
   "outputs": [],
   "execution_count": 2
  },
  {
   "cell_type": "code",
   "id": "ceebda26-f9de-4546-aebf-21c732d428ad",
   "metadata": {
    "ExecuteTime": {
     "end_time": "2024-12-05T04:07:36.741893Z",
     "start_time": "2024-12-05T04:07:25.721386Z"
    }
   },
   "source": [
    "ds = load_dataset(\"wikimedia/wikipedia\", \"20231101.en\")['train']"
   ],
   "outputs": [
    {
     "data": {
      "text/plain": [
       "Resolving data files:   0%|          | 0/41 [00:00<?, ?it/s]"
      ],
      "application/vnd.jupyter.widget-view+json": {
       "version_major": 2,
       "version_minor": 0,
       "model_id": "206de4aa2ce94e8483839cfd938db205"
      }
     },
     "metadata": {},
     "output_type": "display_data"
    },
    {
     "data": {
      "text/plain": [
       "Loading dataset shards:   0%|          | 0/41 [00:00<?, ?it/s]"
      ],
      "application/vnd.jupyter.widget-view+json": {
       "version_major": 2,
       "version_minor": 0,
       "model_id": "ec6d102360874151aa15f723edbc6eb7"
      }
     },
     "metadata": {},
     "output_type": "display_data"
    }
   ],
   "execution_count": 3
  },
  {
   "cell_type": "code",
   "id": "8b07ac3d-2595-4c31-b51b-06343b2375f3",
   "metadata": {
    "ExecuteTime": {
     "end_time": "2024-12-05T04:07:36.814935Z",
     "start_time": "2024-12-05T04:07:36.743847Z"
    }
   },
   "source": [
    "ds_chunk = TextChunkDataset(ds, limit=100)\n",
    "ds_chunk[7]"
   ],
   "outputs": [
    {
     "name": "stderr",
     "output_type": "stream",
     "text": [
      "  0%|          | 100/6407814 [00:00<1:03:54, 1671.28it/s]\n"
     ]
    },
    {
     "data": {
      "text/plain": [
       "'Various anarchist schools of thought formed during this period.'"
      ]
     },
     "execution_count": 4,
     "metadata": {},
     "output_type": "execute_result"
    }
   ],
   "execution_count": 4
  },
  {
   "cell_type": "code",
   "id": "bf532902-6e86-43ed-ba18-e24e8cffcd21",
   "metadata": {
    "ExecuteTime": {
     "end_time": "2024-12-05T04:07:36.818864Z",
     "start_time": "2024-12-05T04:07:36.815904Z"
    }
   },
   "source": [],
   "outputs": [],
   "execution_count": 4
  },
  {
   "cell_type": "code",
   "id": "b0c70b9c-f2d5-4c71-a645-0df3eeb372ce",
   "metadata": {
    "ExecuteTime": {
     "end_time": "2024-12-05T04:07:37.283299Z",
     "start_time": "2024-12-05T04:07:36.819864Z"
    }
   },
   "source": [
    "bert = BertModel.from_pretrained('google-bert/bert-base-uncased').to(DEVICE)\n",
    "bert_tokenizer = BertTokenizer.from_pretrained('google-bert/bert-base-uncased')\n",
    "base_embeddings = bert.embeddings"
   ],
   "outputs": [],
   "execution_count": 5
  },
  {
   "cell_type": "code",
   "id": "07edba36-0299-40b8-91e2-f3367264a4c2",
   "metadata": {
    "ExecuteTime": {
     "end_time": "2024-12-05T04:07:37.288321Z",
     "start_time": "2024-12-05T04:07:37.284263Z"
    }
   },
   "source": [
    "DATA_FILE = '../data-output/embeddings.pt'"
   ],
   "outputs": [],
   "execution_count": 6
  },
  {
   "cell_type": "code",
   "id": "f67c61cc-3fbd-464c-969d-90d291466771",
   "metadata": {
    "ExecuteTime": {
     "end_time": "2024-12-05T04:07:37.299072Z",
     "start_time": "2024-12-05T04:07:37.289321Z"
    }
   },
   "source": [
    "def get_document_embeddings(docs_str):\n",
    "    embds = []\n",
    "    for doc in docs_str:\n",
    "        tok = bert_tokenizer(doc, return_tensors='pt').to(DEVICE)\n",
    "        with torch.inference_mode():\n",
    "            out = bert(**tok)\n",
    "        embds.append(out['last_hidden_state'][:, 0])\n",
    "    return torch.cat(embds, dim=0)"
   ],
   "outputs": [],
   "execution_count": 7
  },
  {
   "cell_type": "code",
   "id": "0191e523-ab4f-4c82-913b-8b50b8622502",
   "metadata": {
    "ExecuteTime": {
     "end_time": "2024-12-05T04:07:37.312966Z",
     "start_time": "2024-12-05T04:07:37.300081Z"
    }
   },
   "source": [
    "bert_tokenizer.decode(bert_tokenizer('THIS IS A TEST')['input_ids'])"
   ],
   "outputs": [
    {
     "data": {
      "text/plain": [
       "'[CLS] this is a test [SEP]'"
      ]
     },
     "execution_count": 8,
     "metadata": {},
     "output_type": "execute_result"
    }
   ],
   "execution_count": 8
  },
  {
   "cell_type": "code",
   "id": "79460368-949e-453e-85b6-5eba8067b014",
   "metadata": {
    "ExecuteTime": {
     "end_time": "2024-12-05T04:07:37.323006Z",
     "start_time": "2024-12-05T04:07:37.316021Z"
    }
   },
   "source": [
    "negative_documents = [ds_chunk[i] for i in range(11)]"
   ],
   "outputs": [],
   "execution_count": 9
  },
  {
   "cell_type": "code",
   "id": "33903be8-c523-401c-a2dd-6829d615b6e7",
   "metadata": {
    "ExecuteTime": {
     "end_time": "2024-12-05T04:07:39.516475Z",
     "start_time": "2024-12-05T04:07:37.323979Z"
    }
   },
   "source": [
    "data = torch.load(DATA_FILE)\n",
    "\n",
    "questions = data['questions']\n",
    "embds_q = data['question_embeddings'].to(DEVICE)\n",
    "\n",
    "documents = data['documents']\n",
    "embds_d = get_document_embeddings(documents)\n",
    "embds_n = get_document_embeddings(negative_documents)\n",
    "# embds_d = data['document_embeddings'].to(DEVICE)\n",
    "\n",
    "all_embds = torch.cat((embds_q, embds_d, embds_n), dim=0)\n",
    "\n",
    "n_q = embds_q.shape[0]\n",
    "n_d = embds_d.shape[0]\n",
    "\n",
    "# projector = PCA(n_components=2)\n",
    "projector = PCA(n_components=2)\n",
    "projections = projector.fit_transform(all_embds.cpu().numpy())\n",
    "\n",
    "projections_q = projections[:n_q]\n",
    "projections_d = projections[n_q:n_q+n_d]\n",
    "projections_n = projections[n_q+n_d:]\n",
    "\n",
    "plt.scatter(*zip(*projections_q), color='blue', label='questions')\n",
    "plt.scatter(*zip(*projections_d), color='red', label='documents')\n",
    "plt.scatter(*zip(*projections_n), color='green', label='negative documents')\n",
    "plt.xlabel('Component 1')\n",
    "plt.ylabel('Component 2')\n",
    "\n",
    "plt.legend()\n",
    "plt.show()"
   ],
   "outputs": [
    {
     "name": "stderr",
     "output_type": "stream",
     "text": [
      "C:\\Users\\test\\AppData\\Local\\Temp\\ipykernel_5168\\701289365.py:1: FutureWarning: You are using `torch.load` with `weights_only=False` (the current default value), which uses the default pickle module implicitly. It is possible to construct malicious pickle data which will execute arbitrary code during unpickling (See https://github.com/pytorch/pytorch/blob/main/SECURITY.md#untrusted-models for more details). In a future release, the default value for `weights_only` will be flipped to `True`. This limits the functions that could be executed during unpickling. Arbitrary objects will no longer be allowed to be loaded via this mode unless they are explicitly allowlisted by the user via `torch.serialization.add_safe_globals`. We recommend you start setting `weights_only=True` for any use case where you don't have full control of the loaded file. Please open an issue on GitHub for any issues related to this experimental feature.\n",
      "  data = torch.load(DATA_FILE)\n"
     ]
    },
    {
     "data": {
      "text/plain": [
       "<Figure size 640x480 with 1 Axes>"
      ],
      "image/png": "[encoded data removed]"
     },
     "metadata": {},
     "output_type": "display_data"
    }
   ],
   "execution_count": 10
  },
  {
   "cell_type": "code",
   "id": "8be9fffc-b39c-41d2-8026-a6bea95d48eb",
   "metadata": {
    "ExecuteTime": {
     "end_time": "2024-12-05T04:07:39.522474Z",
     "start_time": "2024-12-05T04:07:39.517505Z"
    }
   },
   "source": [
    "embds_q.shape"
   ],
   "outputs": [
    {
     "data": {
      "text/plain": [
       "torch.Size([50, 768])"
      ]
     },
     "execution_count": 11,
     "metadata": {},
     "output_type": "execute_result"
    }
   ],
   "execution_count": 11
  },
  {
   "cell_type": "code",
   "id": "7ca67ae8-fc52-4f25-a1f8-80f6c5b664aa",
   "metadata": {
    "ExecuteTime": {
     "end_time": "2024-12-05T04:07:39.573826Z",
     "start_time": "2024-12-05T04:07:39.523458Z"
    }
   },
   "source": [
    "sims_actual = embds_q[0] @ embds_d.T\n",
    "sims_negative = embds_q[0] @ embds_n.T\n",
    "\n",
    "print(sims_actual)\n",
    "print(sims_negative)"
   ],
   "outputs": [
    {
     "name": "stdout",
     "output_type": "stream",
     "text": [
      "tensor([37.3577, 31.6574, 28.3042, 30.9943, 32.4543, 36.0432, 39.0848, 29.7009,\n",
      "        28.3630, 30.8512, 24.6314])\n",
      "tensor([17.0465, 15.6502, 20.2291, 22.8085, 21.1393, 14.3226, 19.7452, 23.2663,\n",
      "        13.0310, 18.9900, 22.8006])\n"
     ]
    }
   ],
   "execution_count": 12
  },
  {
   "cell_type": "code",
   "id": "c36d4fb3-2fe3-4bdf-8a05-debc99b5165b",
   "metadata": {
    "ExecuteTime": {
     "end_time": "2024-12-05T04:07:39.580867Z",
     "start_time": "2024-12-05T04:07:39.574809Z"
    }
   },
   "source": [
    "print(questions[0])\n",
    "print('*'*50)\n",
    "print(documents)\n",
    "print('*'*50)\n",
    "print(negative_documents)"
   ],
   "outputs": [
    {
     "name": "stdout",
     "output_type": "stream",
     "text": [
      "What are the main topics covered in CSE 227: Graduate Computer Security?\n",
      "**************************************************\n",
      "['Lectures: Tuesday/Thursday 11:00am-12:20pm PODEM 1A20', 'Instructor: Earlence Fernandes, Office hours: Tue 2pm to 3pm, CSE 3244', 'TA: Nishit Pandya, Office Hours: Wed 4pm to 5pm, CSE B240A.', 'Class Resources: Submissions on HotCRP; Lecture schedule, readings, and course policies on this web page', 'Grading: 80%: Course Research Project; 10%: In-person Quiz; 10%: Final Project Presentation', 'Course Overview: This course is on graduate-level computer security, focusing on the software systems foundations of building secure computer systems. We will read a mix of classic and new papers in the field and will cover a range of topics from trusted computing, operating systems, web/cloud systems, and machine learning. Our goal is to illustrate research challenges and solutions. It is not designed to be a tutorial course, but rather to give students the context to understand current security research and evaluate their interest in the field. The course will examine both the defensive and offensive side of the field. At the conclusion of the course, the students will have the foundation to conduct research in computer security and to apply the latest security research to a particular area of practice.', 'Note to undergrad and professional MS students: This course is research heavy. It is unlike other courses you\\'ve encountered in your career where there are a fixed set of topics with exams and specific skills to learn. Rather, we will be reading papers and discussing/analyzing those papers. Your primary performance will be based on your ability to formulate and tackle research problems in computer security. A quick way to judge whether taking this course is beneficial for your learning is to read a sample paper and ask yourself, \"would I be interested in writing such a paper myself?\"', 'Pandemic Considerations: This is an in person class. Please do not come to class or exams if you are sick. I will handle requests for remote attendance on a case-by-case basis and I may not grant all requests.', 'Research Project: You will work on projects in groups of 2-4. The goal of the project is to conduct original research in Computer Security. You are encouraged to come up with your own project idea, but we have a few ideas that are well-scoped for a quarter project. Talk with me to scope out a project. The project will require a 1-page project proposal containing: (1) What problem you are tackling; (2) Why that problem is worth tackling; (3) The expected contributions to the science of computer security. This will be due by the second or third week of the quarter. At the end of the quarter, you are expected to turn in a short research paper (max 6 pages; two column format) and give a 15 minute talk. We will have periodic status updates to help you stay on track. The project is 80% of your course grade. I recommend that you take this seriously from the start. I especially value projects that are publication-worthy.', \"Quiz: We will have up to 2 papers per session. You have to read these in detail and should come prepared to discuss the paper. Your goal is to be able to perform a critical evaluation of the following: (1) what is the problem area of the paper; (2) Why is that problem area important; (3) What is the paper's approach; (4) Did the paper do a good job solving the problem; (5) What is the broader context/related work within which this paper's contributions exist; (6) Your thoughts on future work. As the start of every class, there will be a quiz with 1-2 questions that test your understanding of the paper. We will use Google Forms hosted at UCSD (sign-in required) to manage the quiz. A QR code and link will be shared at the start of each class. This quiz is in-person only. If you miss it, there is no make up option. Please ensure you bring a laptop (or equivalent device) to take the quiz. If you do not have computing equipment, talk to me after the first class. There will not be any quiz for the first class.\", 'By taking this course, you implicitly agree to abide by the UCSD policies on Integrity of Scholarship and Student Conduct. See the Academic Integrity Support for Remote Learning. University rules on integrity of scholarship and code of conduct are taken seriously and will be enforced.']\n",
      "**************************************************\n",
      "['Anarchism is a political philosophy and movement that is skeptical of all justifications for authority and seeks to abolish the institutions it claims maintain unnecessary coercion and hierarchy, typically including nation-states, and capitalism.', 'Anarchism advocates for the replacement of the state with stateless societies and voluntary free associations.', 'As a historically left-wing movement, this reading of anarchism is placed on the farthest left of the political spectrum, usually described as the libertarian wing of the socialist movement (libertarian socialism).', 'Humans have lived in societies without formal hierarchies long before the establishment of states, realms, or empires.', 'With the rise of organised hierarchical bodies, scepticism toward authority also rose.', 'Although traces of anarchist ideas are found all throughout history, modern anarchism emerged from the Enlightenment.', \"During the latter half of the 19th and the first decades of the 20th century, the anarchist movement flourished in most parts of the world and had a significant role in workers' struggles for emancipation.\", 'Various anarchist schools of thought formed during this period.', 'Anarchists have taken part in several revolutions, most notably in the Paris Commune, the Russian Civil War and the Spanish Civil War, whose end marked the end of the classical era of anarchism.', 'In the last decades of the 20th and into the 21st century, the anarchist movement has been resurgent once more, growing in popularity and influence within anti-capitalist, anti-war and anti-globalisation movements.', 'Anarchists employ diverse approaches, which may be generally divided into revolutionary and evolutionary strategies; there is significant overlap between the two.']\n"
     ]
    }
   ],
   "execution_count": 13
  },
  {
   "cell_type": "code",
   "id": "776dc77d-93fb-4060-b53f-1a5f5945686f",
   "metadata": {
    "ExecuteTime": {
     "end_time": "2024-12-05T04:07:39.762089Z",
     "start_time": "2024-12-05T04:07:39.581865Z"
    }
   },
   "source": [
    "plt.scatter(*zip(*projections_q), color='blue', label='questions')\n",
    "plt.scatter(*zip(*projections_d), color='red', label='documents')\n",
    "plt.xlabel('Component 1')\n",
    "plt.ylabel('Component 2')\n",
    "\n",
    "plt.title(\"Question and Document Embeddings (TSNE)\")\n",
    "\n",
    "plt.legend()\n",
    "plt.show()"
   ],
   "outputs": [
    {
     "data": {
      "text/plain": [
       "<Figure size 640x480 with 1 Axes>"
      ],
      "image/png": "[encoded data removed]"
     },
     "metadata": {},
     "output_type": "display_data"
    }
   ],
   "execution_count": 14
  },
  {
   "cell_type": "code",
   "id": "a0691fc2-7520-46d6-817f-55b0e7e8fe01",
   "metadata": {
    "ExecuteTime": {
     "end_time": "2024-12-05T04:07:39.766746Z",
     "start_time": "2024-12-05T04:07:39.763079Z"
    }
   },
   "source": [
    "# NEXT STEP: prefix tuning in order to minimize the distance to the average question embedding\n",
    "# goal is just to steer the embedding towards the centroid of the questions, using only some prefix tokens."
   ],
   "outputs": [],
   "execution_count": 15
  },
  {
   "cell_type": "code",
   "id": "661eeafd-c7b6-4a1c-a643-00235ae8b316",
   "metadata": {
    "ExecuteTime": {
     "end_time": "2024-12-05T04:07:39.790872Z",
     "start_time": "2024-12-05T04:07:39.767710Z"
    }
   },
   "source": [
    "avg_q_embd = embds_q.mean(dim=0)"
   ],
   "outputs": [],
   "execution_count": 16
  },
  {
   "cell_type": "code",
   "id": "15c6d5ff-8481-4bf1-bf3b-2fc177eef270",
   "metadata": {
    "ExecuteTime": {
     "end_time": "2024-12-05T04:07:39.798109Z",
     "start_time": "2024-12-05T04:07:39.792882Z"
    }
   },
   "source": [
    "dist_loss = get_dist_loss(avg_q_embd)"
   ],
   "outputs": [],
   "execution_count": 17
  },
  {
   "cell_type": "code",
   "id": "ebd9b28c-77d4-4be8-b2e0-0b711bf5443a",
   "metadata": {
    "ExecuteTime": {
     "end_time": "2024-12-05T04:07:39.809374Z",
     "start_time": "2024-12-05T04:07:39.800130Z"
    }
   },
   "source": [
    "ex_embd = embds_q[0]"
   ],
   "outputs": [],
   "execution_count": 18
  },
  {
   "cell_type": "code",
   "id": "dc9f564d-65e2-4694-acee-68ce8cdcc565",
   "metadata": {
    "ExecuteTime": {
     "end_time": "2024-12-05T04:07:39.845689Z",
     "start_time": "2024-12-05T04:07:39.810404Z"
    }
   },
   "source": [
    "dist_loss(ex_embd)"
   ],
   "outputs": [
    {
     "name": "stderr",
     "output_type": "stream",
     "text": [
      "C:\\Users\\test\\AppData\\Local\\Temp\\ipykernel_5168\\1966739039.py:33: UserWarning: The use of `x.T` on tensors of dimension other than 2 to reverse their shape is deprecated and it will throw an error in a future release. Consider `x.mT` to transpose batches of matrices or `x.permute(*torch.arange(x.ndim - 1, -1, -1))` to reverse the dimensions of a tensor. (Triggered internally at C:\\actions-runner\\_work\\pytorch\\pytorch\\builder\\windows\\pytorch\\aten\\src\\ATen\\native\\TensorShape.cpp:3687.)\n",
      "  return -(doc_embd @ target_embd.T).mean()\n"
     ]
    },
    {
     "data": {
      "text/plain": [
       "tensor(-64.9581)"
      ]
     },
     "execution_count": 19,
     "metadata": {},
     "output_type": "execute_result"
    }
   ],
   "execution_count": 19
  },
  {
   "cell_type": "markdown",
   "id": "264c67b9-a31f-4643-90cc-66dda29ec7c0",
   "metadata": {},
   "source": [
    "## Prefix Tuning"
   ]
  },
  {
   "cell_type": "code",
   "id": "485e2ecc-2f8f-4120-9710-a0d109eea068",
   "metadata": {
    "ExecuteTime": {
     "end_time": "2024-12-05T04:12:42.209660Z",
     "start_time": "2024-12-05T04:12:42.202626Z"
    }
   },
   "source": [
    "class PrefixEmbeddings(nn.Module):\n",
    "    def __init__(self, base_embeddings, num_tokens=8, valid_index=999):\n",
    "        super().__init__()\n",
    "        self.valid_index = valid_index\n",
    "        self.base_embeddings = base_embeddings\n",
    "        self.vocab_size, self.hidden_size = self.base_embeddings.word_embeddings.weight.shape\n",
    "        self.vocab_size -= self.valid_index\n",
    "        \n",
    "        self.num_tokens = num_tokens\n",
    "        self.one_hot = nn.Embedding(num_tokens, self.vocab_size).to(DEVICE)\n",
    "        with torch.no_grad():\n",
    "            self.one_hot.weight.fill_(.5)\n",
    "\n",
    "    def forward(self, input_ids, **kwargs):\n",
    "        input_embds = self.base_embeddings.word_embeddings(input_ids)\n",
    "        # now for some slicing and dicing\n",
    "        cls_embds = input_embds[:, :1, :]\n",
    "        token_embds = input_embds[:, 1:, :]\n",
    "        bsz = cls_embds.shape[0]\n",
    "\n",
    "        one_hot = nn.functional.normalize(torch.clamp(self.one_hot.weight, 0., 1.), p=1, dim=-1)\n",
    "        extra_token_embeds = one_hot @ self.base_embeddings.word_embeddings.weight[self.valid_index:]\n",
    "\n",
    "        extra_tokens = extra_token_embeds.unsqueeze(0).expand(bsz, *extra_token_embeds.shape)\n",
    "        \n",
    "        sandwiched_input_embeds = torch.cat((cls_embds, extra_tokens, token_embds), dim=1).float()\n",
    "        token_type_ids = torch.zeros(sandwiched_input_embeds.shape[0],\n",
    "                                     sandwiched_input_embeds.shape[1]).int().to(DEVICE)\n",
    "            \n",
    "        out = self.base_embeddings(inputs_embeds=sandwiched_input_embeds,\n",
    "                                    token_type_ids=token_type_ids,\n",
    "                                   past_key_values_length=0)\n",
    "\n",
    "        return out\n"
   ],
   "outputs": [],
   "execution_count": 34
  },
  {
   "cell_type": "markdown",
   "id": "d42a740c-b61d-4ab6-a375-b7f48e4092d9",
   "metadata": {},
   "source": [
    "## Model preparation\n",
    "\n",
    "Freeze all parameters except for the prefix embeddings."
   ]
  },
  {
   "cell_type": "code",
   "id": "fc27a49a-a116-4a7a-ae99-0cd34fba1e9e",
   "metadata": {
    "ExecuteTime": {
     "end_time": "2024-12-05T04:12:45.223107Z",
     "start_time": "2024-12-05T04:12:45.219031Z"
    }
   },
   "source": [
    "## params\n",
    "\n",
    "num_epochs = 1\n",
    "lr = 1e-2\n",
    "batch_size = 16\n",
    "num_prefix_tokens = 32\n",
    "report_freq = 100"
   ],
   "outputs": [],
   "execution_count": 35
  },
  {
   "cell_type": "code",
   "id": "9d4af1fb-bb69-4829-b63c-0ed408279544",
   "metadata": {
    "ExecuteTime": {
     "end_time": "2024-12-05T04:12:46.819444Z",
     "start_time": "2024-12-05T04:12:46.813624Z"
    }
   },
   "source": [
    "def freeze_parameters(model):\n",
    "    for name, param in model.named_parameters():\n",
    "        param.requires_grad = False\n",
    "\n",
    "def count_parameters(model):\n",
    "    trainable = 0\n",
    "    total = 0\n",
    "    for name, param in model.named_parameters():\n",
    "        total += param.numel()\n",
    "        if param.requires_grad:\n",
    "            trainable += param.numel()\n",
    "    print(f\"Trainable: {trainable} | Total: {total} | Percentage: {(100*trainable / total):.3f}%\")"
   ],
   "outputs": [],
   "execution_count": 36
  },
  {
   "cell_type": "code",
   "id": "f266ec79-3b0f-4915-9f25-57a0375c1edb",
   "metadata": {
    "ExecuteTime": {
     "end_time": "2024-12-05T04:12:48.169316Z",
     "start_time": "2024-12-05T04:12:47.922219Z"
    }
   },
   "source": [
    "bert_trainable = BertModel.from_pretrained('google-bert/bert-base-uncased').to(DEVICE)\n",
    "freeze_parameters(bert_trainable)\n",
    "custom_embeddings = PrefixEmbeddings(bert_trainable.embeddings, num_tokens=num_prefix_tokens)\n",
    "\n",
    "print('Base model:')\n",
    "count_parameters(bert_trainable)\n",
    "print('*'*50)\n",
    "print('Embeddings:')\n",
    "count_parameters(custom_embeddings)"
   ],
   "outputs": [
    {
     "name": "stdout",
     "output_type": "stream",
     "text": [
      "Base model:\n",
      "Trainable: 0 | Total: 109482240 | Percentage: 0.000%\n",
      "**************************************************\n",
      "Embeddings:\n",
      "Trainable: 944736 | Total: 24781920 | Percentage: 3.812%\n"
     ]
    }
   ],
   "execution_count": 37
  },
  {
   "cell_type": "markdown",
   "id": "b8a147b2-fa85-45f7-8d48-644e470a9e04",
   "metadata": {},
   "source": [
    "## Training loop"
   ]
  },
  {
   "metadata": {
    "ExecuteTime": {
     "end_time": "2024-12-05T04:12:53.333841Z",
     "start_time": "2024-12-05T04:12:53.329786Z"
    }
   },
   "cell_type": "code",
   "source": [
    "def get_one_hot(custom_embeddings):\n",
    "    one_hot = custom_embeddings.one_hot.weight.detach().clone()\n",
    "    return nn.functional.normalize(torch.clamp(one_hot, 0., 1.), p=1, dim=-1)"
   ],
   "id": "f0053da78b98de74",
   "outputs": [],
   "execution_count": 38
  },
  {
   "cell_type": "code",
   "id": "18dc2570-e731-43ad-b0c6-4feb03da7479",
   "metadata": {
    "ExecuteTime": {
     "end_time": "2024-12-05T04:12:54.245884Z",
     "start_time": "2024-12-05T04:12:54.229986Z"
    }
   },
   "source": "orig_one_hot_weight = get_one_hot(custom_embeddings)",
   "outputs": [],
   "execution_count": 39
  },
  {
   "cell_type": "code",
   "id": "d9baa682-daca-43cd-bcb1-1635baec6c76",
   "metadata": {
    "ExecuteTime": {
     "end_time": "2024-12-05T04:53:12.510651Z",
     "start_time": "2024-12-05T04:13:36.591444Z"
    }
   },
   "source": [
    "torch.manual_seed(42)\n",
    "ds_train, ds_val, ds_test = torch.utils.data.random_split(ds_chunk, lengths=[0.85, 0.1, 0.05])\n",
    "\n",
    "train_dl = DataLoader(ds_train, batch_size=batch_size, shuffle=True)\n",
    "val_dl = DataLoader(ds_val, batch_size=batch_size, shuffle=True)\n",
    "test_dl = DataLoader(ds_test, batch_size=batch_size, shuffle=True)\n",
    "\n",
    "model = bert_trainable\n",
    "\n",
    "optimizer = torch.optim.Adam(custom_embeddings.parameters(), lr=lr)\n",
    "\n",
    "def prepare_embd_inputs(inputs, custom_embeddings):\n",
    "    batch_size = len(inputs)\n",
    "    tokenized_inputs = bert_tokenizer(inputs, padding=True, return_tensors='pt').to(DEVICE)\n",
    "    # prepend attention_mask the same number of tokens\n",
    "    tokenized_inputs['attention_mask'] = torch.cat(\n",
    "        (torch.ones(batch_size, num_prefix_tokens).int().to(DEVICE),\n",
    "         tokenized_inputs['attention_mask']),\n",
    "    dim=1)\n",
    "\n",
    "    token_type_ids = torch.cat(\n",
    "        (torch.zeros(batch_size, num_prefix_tokens).int().to(DEVICE),\n",
    "        tokenized_inputs['token_type_ids']),\n",
    "    dim=1)\n",
    "\n",
    "    inputs_embeds = custom_embeddings(**tokenized_inputs)\n",
    "\n",
    "    tokenized_inputs['token_type_ids'] = token_type_ids\n",
    "\n",
    "    del tokenized_inputs['input_ids']\n",
    "    tokenized_inputs['inputs_embeds'] = inputs_embeds\n",
    "\n",
    "    return tokenized_inputs\n",
    "\n",
    "\n",
    "\n",
    "dist_loss = get_dist_loss(avg_q_embd)\n",
    "train_losses_rec = []\n",
    "val_losses_rec = []\n",
    "\n",
    "\n",
    "for epoch in range(num_epochs):\n",
    "    # Training phase\n",
    "    model.train()\n",
    "    print(f'EPOCH {epoch}')\n",
    "    print('-'*50)\n",
    "\n",
    "    train_losses = []\n",
    "\n",
    "    model.eval()\n",
    "    val_loss = 0.0\n",
    "    with torch.inference_mode():\n",
    "        print('PRE VALIDATION...')\n",
    "        for inputs in tqdm(val_dl):\n",
    "            embedded_inputs = prepare_embd_inputs(inputs, custom_embeddings)\n",
    "            outputs = model(**embedded_inputs)\n",
    "            val_loss += dist_loss(outputs['last_hidden_state'][:, 0]).item()\n",
    "    \n",
    "    \n",
    "    val_loss /= len(val_dl)\n",
    "    val_losses_rec.append(val_loss)\n",
    "    \n",
    "    print(f\"Epoch {epoch+1}/{num_epochs}, Validation Loss: {val_loss:.4f}\")\n",
    "    \n",
    "    for i, inputs in enumerate(tqdm(train_dl)):\n",
    "\n",
    "        optimizer.zero_grad()\n",
    "        \n",
    "        embedded_inputs = prepare_embd_inputs(inputs, custom_embeddings)\n",
    "        outputs = model(**embedded_inputs)\n",
    "        \n",
    "        loss = dist_loss(outputs['last_hidden_state'][:, 0])\n",
    "        train_losses.append(loss.cpu().item())\n",
    "        train_losses_rec.append(loss.cpu().item())\n",
    "        \n",
    "        loss.backward()\n",
    "        optimizer.step()\n",
    "\n",
    "        if i % report_freq == 0 and i > 0:\n",
    "            avg_train_loss = np.mean(train_losses)\n",
    "            print(f\"TRAIN LOSS ({i}): {avg_train_loss}\")\n",
    "            train_losses = []\n",
    "\n",
    "    # Validation phase\n",
    "    \n",
    "    model.eval()\n",
    "    val_loss = 0.0\n",
    "    with torch.inference_mode():\n",
    "        print('VALIDATION...')\n",
    "        for inputs in tqdm(val_dl):\n",
    "            embedded_inputs = prepare_embd_inputs(inputs, custom_embeddings)\n",
    "            outputs = model(**embedded_inputs)\n",
    "            val_loss += dist_loss(outputs['last_hidden_state'][:, 0]).item()\n",
    "    \n",
    "    \n",
    "    val_loss /= len(val_dl)\n",
    "    val_losses_rec.append(val_loss)\n",
    "    \n",
    "    print(f\"Epoch {epoch+1}/{num_epochs}, Validation Loss: {val_loss:.4f}\")"
   ],
   "outputs": [
    {
     "name": "stdout",
     "output_type": "stream",
     "text": [
      "EPOCH 0\n",
      "--------------------------------------------------\n",
      "PRE VALIDATION...\n"
     ]
    },
    {
     "name": "stderr",
     "output_type": "stream",
     "text": [
      "100%|██████████| 140/140 [02:05<00:00,  1.12it/s]\n"
     ]
    },
    {
     "name": "stdout",
     "output_type": "stream",
     "text": [
      "Epoch 1/1, Validation Loss: -32.2662\n"
     ]
    },
    {
     "name": "stderr",
     "output_type": "stream",
     "text": [
      "  9%|▊         | 101/1185 [02:57<31:42,  1.75s/it]"
     ]
    },
    {
     "name": "stdout",
     "output_type": "stream",
     "text": [
      "TRAIN LOSS (100): -48.682434591916525\n"
     ]
    },
    {
     "name": "stderr",
     "output_type": "stream",
     "text": [
      " 17%|█▋        | 201/1185 [05:54<27:16,  1.66s/it]"
     ]
    },
    {
     "name": "stdout",
     "output_type": "stream",
     "text": [
      "TRAIN LOSS (200): -63.35100688934326\n"
     ]
    },
    {
     "name": "stderr",
     "output_type": "stream",
     "text": [
      " 25%|██▌       | 301/1185 [08:56<30:17,  2.06s/it]"
     ]
    },
    {
     "name": "stdout",
     "output_type": "stream",
     "text": [
      "TRAIN LOSS (300): -65.73701271057129\n"
     ]
    },
    {
     "name": "stderr",
     "output_type": "stream",
     "text": [
      " 34%|███▍      | 401/1185 [12:10<23:54,  1.83s/it]"
     ]
    },
    {
     "name": "stdout",
     "output_type": "stream",
     "text": [
      "TRAIN LOSS (400): -65.90334747314454\n"
     ]
    },
    {
     "name": "stderr",
     "output_type": "stream",
     "text": [
      " 42%|████▏     | 501/1185 [15:18<19:44,  1.73s/it]"
     ]
    },
    {
     "name": "stdout",
     "output_type": "stream",
     "text": [
      "TRAIN LOSS (500): -65.91463668823242\n"
     ]
    },
    {
     "name": "stderr",
     "output_type": "stream",
     "text": [
      " 51%|█████     | 601/1185 [18:07<16:55,  1.74s/it]"
     ]
    },
    {
     "name": "stdout",
     "output_type": "stream",
     "text": [
      "TRAIN LOSS (600): -65.92205711364745\n"
     ]
    },
    {
     "name": "stderr",
     "output_type": "stream",
     "text": [
      " 59%|█████▉    | 701/1185 [21:12<15:05,  1.87s/it]"
     ]
    },
    {
     "name": "stdout",
     "output_type": "stream",
     "text": [
      "TRAIN LOSS (700): -65.94936676025391\n"
     ]
    },
    {
     "name": "stderr",
     "output_type": "stream",
     "text": [
      " 68%|██████▊   | 801/1185 [24:13<10:29,  1.64s/it]"
     ]
    },
    {
     "name": "stdout",
     "output_type": "stream",
     "text": [
      "TRAIN LOSS (800): -65.96992225646973\n"
     ]
    },
    {
     "name": "stderr",
     "output_type": "stream",
     "text": [
      " 76%|███████▌  | 901/1185 [27:10<08:45,  1.85s/it]"
     ]
    },
    {
     "name": "stdout",
     "output_type": "stream",
     "text": [
      "TRAIN LOSS (900): -65.92763885498047\n"
     ]
    },
    {
     "name": "stderr",
     "output_type": "stream",
     "text": [
      " 84%|████████▍ | 1001/1185 [30:08<06:08,  2.00s/it]"
     ]
    },
    {
     "name": "stdout",
     "output_type": "stream",
     "text": [
      "TRAIN LOSS (1000): -65.93800384521484\n"
     ]
    },
    {
     "name": "stderr",
     "output_type": "stream",
     "text": [
      " 93%|█████████▎| 1101/1185 [33:04<02:40,  1.91s/it]"
     ]
    },
    {
     "name": "stdout",
     "output_type": "stream",
     "text": [
      "TRAIN LOSS (1100): -65.961982421875\n"
     ]
    },
    {
     "name": "stderr",
     "output_type": "stream",
     "text": [
      "100%|██████████| 1185/1185 [35:28<00:00,  1.80s/it]\n"
     ]
    },
    {
     "name": "stdout",
     "output_type": "stream",
     "text": [
      "VALIDATION...\n"
     ]
    },
    {
     "name": "stderr",
     "output_type": "stream",
     "text": [
      "100%|██████████| 140/140 [02:01<00:00,  1.15it/s]"
     ]
    },
    {
     "name": "stdout",
     "output_type": "stream",
     "text": [
      "Epoch 1/1, Validation Loss: -65.9122\n"
     ]
    },
    {
     "name": "stderr",
     "output_type": "stream",
     "text": [
      "\n"
     ]
    }
   ],
   "execution_count": 40
  },
  {
   "cell_type": "code",
   "id": "db2ea6d6-1375-4ea3-981f-4fedb7b915a2",
   "metadata": {
    "ExecuteTime": {
     "end_time": "2024-12-05T04:53:12.521758Z",
     "start_time": "2024-12-05T04:53:12.512720Z"
    }
   },
   "source": "post_one_hot_weight = get_one_hot(custom_embeddings)",
   "outputs": [],
   "execution_count": 41
  },
  {
   "cell_type": "markdown",
   "id": "9c7a6d4b-f6a1-4063-9128-f535813a19b1",
   "metadata": {},
   "source": [
    "## Post-processing weights"
   ]
  },
  {
   "cell_type": "code",
   "id": "d866dee9-21f0-4959-a26d-1e31e57c9485",
   "metadata": {
    "ExecuteTime": {
     "end_time": "2024-12-05T05:04:12.769927Z",
     "start_time": "2024-12-05T05:04:12.763826Z"
    }
   },
   "source": "post_one_hot_weight.shape",
   "outputs": [
    {
     "data": {
      "text/plain": [
       "torch.Size([32, 29523])"
      ]
     },
     "execution_count": 42,
     "metadata": {},
     "output_type": "execute_result"
    }
   ],
   "execution_count": 42
  },
  {
   "metadata": {
    "ExecuteTime": {
     "end_time": "2024-12-05T05:05:11.304476Z",
     "start_time": "2024-12-05T05:05:11.297772Z"
    }
   },
   "cell_type": "code",
   "source": "torch.norm(post_one_hot_weight, p=1, dim=-1)",
   "id": "b943ccca7724f88a",
   "outputs": [
    {
     "data": {
      "text/plain": [
       "tensor([1.0000, 1.0000, 1.0000, 0.9999, 1.0000, 1.0001, 1.0001, 0.9999, 1.0000,\n",
       "        1.0001, 0.9999, 1.0000, 1.0000, 1.0000, 1.0000, 1.0001, 0.9999, 1.0000,\n",
       "        1.0000, 1.0000, 1.0000, 1.0000, 1.0000, 1.0001, 1.0000, 1.0000, 1.0000,\n",
       "        1.0000, 1.0001, 1.0000, 1.0000, 1.0001])"
      ]
     },
     "execution_count": 43,
     "metadata": {},
     "output_type": "execute_result"
    }
   ],
   "execution_count": 43
  },
  {
   "cell_type": "code",
   "id": "16b4b80d-ff81-4664-9d1a-4cd4b62d3789",
   "metadata": {
    "ExecuteTime": {
     "end_time": "2024-12-05T05:05:28.422905Z",
     "start_time": "2024-12-05T05:05:28.418961Z"
    }
   },
   "source": [
    "token_embeddings_weight = bert.embeddings.word_embeddings.weight\n",
    "n_invalid_toks = 999\n",
    "valid_token_embeddings_weight = bert.embeddings.word_embeddings.weight[n_invalid_toks:]"
   ],
   "outputs": [],
   "execution_count": 44
  },
  {
   "cell_type": "code",
   "id": "a3bf009b-c550-474a-9584-7e99f2d21159",
   "metadata": {
    "ExecuteTime": {
     "end_time": "2024-12-05T05:05:29.796610Z",
     "start_time": "2024-12-05T05:05:29.783676Z"
    }
   },
   "source": [
    "argmaxs = []\n",
    "\n",
    "for weight in post_one_hot_weight:\n",
    "    argmax = torch.argmax(weight)\n",
    "    argmaxs.append(argmax.item() + n_invalid_toks)"
   ],
   "outputs": [],
   "execution_count": 45
  },
  {
   "cell_type": "code",
   "id": "14ddc4b2-ed82-4aad-b5f1-735d7d465d97",
   "metadata": {
    "ExecuteTime": {
     "end_time": "2024-12-05T05:05:31.071114Z",
     "start_time": "2024-12-05T05:05:31.065157Z"
    }
   },
   "source": "bert_tokenizer.decode(argmaxs)",
   "outputs": [
    {
     "data": {
      "text/plain": [
       "'@ # #!!! +! =! + & * % + $ \" \" $! $ * $ # $! \" $ + $ ( \"'"
      ]
     },
     "execution_count": 46,
     "metadata": {},
     "output_type": "execute_result"
    }
   ],
   "execution_count": 46
  },
  {
   "cell_type": "code",
   "id": "f29057eb-a7d6-4b24-a309-c4f5d150171b",
   "metadata": {
    "ExecuteTime": {
     "end_time": "2024-12-05T05:05:44.596608Z",
     "start_time": "2024-12-05T05:05:44.594084Z"
    }
   },
   "source": [],
   "outputs": [],
   "execution_count": 46
  },
  {
   "cell_type": "code",
   "id": "373ef93d-310a-43a0-bfd0-ec426869190f",
   "metadata": {
    "scrolled": true,
    "ExecuteTime": {
     "end_time": "2024-12-05T05:05:45.394237Z",
     "start_time": "2024-12-05T05:05:45.388694Z"
    }
   },
   "source": "argmaxs",
   "outputs": [
    {
     "data": {
      "text/plain": [
       "[1030,\n",
       " 1001,\n",
       " 1001,\n",
       " 999,\n",
       " 999,\n",
       " 999,\n",
       " 1009,\n",
       " 999,\n",
       " 1027,\n",
       " 999,\n",
       " 1009,\n",
       " 1004,\n",
       " 1008,\n",
       " 1003,\n",
       " 1009,\n",
       " 1002,\n",
       " 1000,\n",
       " 1000,\n",
       " 1002,\n",
       " 999,\n",
       " 1002,\n",
       " 1008,\n",
       " 1002,\n",
       " 1001,\n",
       " 1002,\n",
       " 999,\n",
       " 1000,\n",
       " 1002,\n",
       " 1009,\n",
       " 1002,\n",
       " 1006,\n",
       " 1000]"
      ]
     },
     "execution_count": 47,
     "metadata": {},
     "output_type": "execute_result"
    }
   ],
   "execution_count": 47
  },
  {
   "cell_type": "code",
   "id": "90917f1c-b4d1-4dff-81e0-05ce2b3fd547",
   "metadata": {
    "ExecuteTime": {
     "end_time": "2024-12-05T05:16:58.245929Z",
     "start_time": "2024-12-05T05:16:57.967Z"
    }
   },
   "source": [
    "bert_fresh = BertModel.from_pretrained('google-bert/bert-base-uncased').to(DEVICE)"
   ],
   "outputs": [],
   "execution_count": 53
  },
  {
   "metadata": {
    "ExecuteTime": {
     "end_time": "2024-12-05T05:16:58.813144Z",
     "start_time": "2024-12-05T05:16:58.807573Z"
    }
   },
   "cell_type": "code",
   "source": "questions[0]",
   "id": "1f955ee547a76ff6",
   "outputs": [
    {
     "data": {
      "text/plain": [
       "'What are the main topics covered in CSE 227: Graduate Computer Security?'"
      ]
     },
     "execution_count": 54,
     "metadata": {},
     "output_type": "execute_result"
    }
   ],
   "execution_count": 54
  },
  {
   "metadata": {
    "ExecuteTime": {
     "end_time": "2024-12-05T05:16:59.471271Z",
     "start_time": "2024-12-05T05:16:59.466254Z"
    }
   },
   "cell_type": "code",
   "source": "documents[5]",
   "id": "189b9c60237a9bb6",
   "outputs": [
    {
     "data": {
      "text/plain": [
       "'Course Overview: This course is on graduate-level computer security, focusing on the software systems foundations of building secure computer systems. We will read a mix of classic and new papers in the field and will cover a range of topics from trusted computing, operating systems, web/cloud systems, and machine learning. Our goal is to illustrate research challenges and solutions. It is not designed to be a tutorial course, but rather to give students the context to understand current security research and evaluate their interest in the field. The course will examine both the defensive and offensive side of the field. At the conclusion of the course, the students will have the foundation to conduct research in computer security and to apply the latest security research to a particular area of practice.'"
      ]
     },
     "execution_count": 55,
     "metadata": {},
     "output_type": "execute_result"
    }
   ],
   "execution_count": 55
  },
  {
   "cell_type": "code",
   "id": "39edfe28-969a-4452-8790-8ab13d3ec8bf",
   "metadata": {
    "ExecuteTime": {
     "end_time": "2024-12-05T05:17:00.748002Z",
     "start_time": "2024-12-05T05:17:00.742393Z"
    }
   },
   "source": [
    "s = bert_tokenizer.decode(argmaxs) + ' '\n",
    "positive_string = documents[5]\n",
    "negative_string = 'Anarchism advocates for the replacement of the state with stateless societies and voluntary free associations.'\n",
    "random_string = 'I enjoy pasta.'\n",
    "malicious_string = 'This course is on useless things, focusing on nothing significant at all.'\n",
    "\n",
    "loss_fn = get_dist_loss(embds_q[0])"
   ],
   "outputs": [],
   "execution_count": 56
  },
  {
   "cell_type": "code",
   "id": "f1967038-8110-482a-b5f4-a5e020ef06b6",
   "metadata": {
    "ExecuteTime": {
     "end_time": "2024-12-05T05:17:02.521158Z",
     "start_time": "2024-12-05T05:17:02.516047Z"
    }
   },
   "source": [
    "def get_score(input_string):\n",
    "    inputs = bert_tokenizer(input_string, return_tensors='pt').to(DEVICE)\n",
    "    with torch.inference_mode():\n",
    "        ex_embedding = bert_fresh(**inputs)['last_hidden_state'][0, 0]\n",
    "\n",
    "    return -loss_fn(ex_embedding).cpu().item()\n",
    "    "
   ],
   "outputs": [],
   "execution_count": 57
  },
  {
   "cell_type": "code",
   "id": "90926591-e6c5-476d-a391-9275944a5cc9",
   "metadata": {
    "ExecuteTime": {
     "end_time": "2024-12-05T05:17:04.595047Z",
     "start_time": "2024-12-05T05:17:03.469850Z"
    }
   },
   "source": [
    "positive_score = get_score(positive_string)\n",
    "negative_score = get_score(negative_string)\n",
    "random_score = get_score(random_string)\n",
    "malicious_score = get_score(malicious_string)\n",
    "adversarial_negative_score = get_score(s + negative_string)\n",
    "adversarial_random_score = get_score(s + random_string)\n",
    "adversarial_malicious_score = get_score(s + malicious_string)"
   ],
   "outputs": [],
   "execution_count": 58
  },
  {
   "cell_type": "code",
   "id": "56aae785-5caa-4523-972d-5f02e5a08387",
   "metadata": {
    "ExecuteTime": {
     "end_time": "2024-12-05T05:17:05.307068Z",
     "start_time": "2024-12-05T05:17:05.302135Z"
    }
   },
   "source": [
    "print('POSITIVE SCORE:\\t\\t', positive_score)\n",
    "print('*'*50)\n",
    "print('NEGATIVE SCORE:\\t\\t', negative_score)\n",
    "print('ADV NEGATIVE SCORE:\\t', adversarial_negative_score)\n",
    "print('RANDOM SCORE:\\t\\t', random_score)\n",
    "print('ADV RANDOM SCORE:\\t', adversarial_random_score)\n",
    "print('MALICIOUS SCORE:\\t\\t', malicious_score)\n",
    "print('ADV MALICIOUS SCORE:\\t', adversarial_malicious_score)"
   ],
   "outputs": [
    {
     "name": "stdout",
     "output_type": "stream",
     "text": [
      "POSITIVE SCORE:\t\t 36.043148040771484\n",
      "**************************************************\n",
      "NEGATIVE SCORE:\t\t 15.65020751953125\n",
      "ADV NEGATIVE SCORE:\t 28.54061508178711\n",
      "RANDOM SCORE:\t\t 15.437532424926758\n",
      "ADV RANDOM SCORE:\t 27.04845428466797\n",
      "MALICIOUS SCORE:\t\t 20.227218627929688\n",
      "ADV MALICIOUS SCORE:\t 28.921585083007812\n"
     ]
    }
   ],
   "execution_count": 59
  },
  {
   "metadata": {},
   "cell_type": "code",
   "outputs": [],
   "execution_count": null,
   "source": "",
   "id": "2ca42f197047d493"
  }
 ],
 "metadata": {
  "kernelspec": {
   "display_name": "Python 3 (ipykernel)",
   "language": "python",
   "name": "python3"
  },
  "language_info": {
   "codemirror_mode": {
    "name": "ipython",
    "version": 3
   },
   "file_extension": ".py",
   "mimetype": "text/x-python",
   "name": "python",
   "nbconvert_exporter": "python",
   "pygments_lexer": "ipython3",
   "version": "3.12.7"
  }
 },
 "nbformat": 4,
 "nbformat_minor": 5
}
