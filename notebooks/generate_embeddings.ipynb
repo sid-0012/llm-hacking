{
 "cells": [
  {
   "cell_type": "markdown",
   "id": "20556327ebffdc3f",
   "metadata": {},
   "source": [
    "# Generate Embeddings\n",
    "\n",
    "Using Facebook RAG."
   ]
  },
  {
   "cell_type": "code",
   "execution_count": 1,
   "id": "2ddb8e62e0fa8fab",
   "metadata": {
    "ExecuteTime": {
     "end_time": "2024-11-20T21:44:46.644990Z",
     "start_time": "2024-11-20T21:44:43.197601Z"
    }
   },
   "outputs": [
    {
     "name": "stderr",
     "output_type": "stream",
     "text": [
      "C:\\Users\\test\\PycharmProjects\\cse227-project\\.venv\\Lib\\site-packages\\tqdm\\auto.py:21: TqdmWarning: IProgress not found. Please update jupyter and ipywidgets. See https://ipywidgets.readthedocs.io/en/stable/user_install.html\n",
      "  from .autonotebook import tqdm as notebook_tqdm\n"
     ]
    }
   ],
   "source": [
    "import os\n",
    "os.environ['KMP_DUPLICATE_LIB_OK'] = 'True'\n",
    "\n",
    "import faiss\n",
    "from transformers import RagTokenizer, RagRetriever, RagTokenForGeneration\n",
    "import torch"
   ]
  },
  {
   "cell_type": "code",
   "execution_count": 2,
   "id": "initial_id",
   "metadata": {
    "ExecuteTime": {
     "end_time": "2024-11-20T21:44:55.334730Z",
     "start_time": "2024-11-20T21:44:46.646434Z"
    }
   },
   "outputs": [
    {
     "name": "stderr",
     "output_type": "stream",
     "text": [
      "C:\\Users\\test\\PycharmProjects\\cse227-project\\.venv\\Lib\\site-packages\\transformers\\models\\bart\\configuration_bart.py:176: UserWarning: Please make sure the config includes `forced_bos_token_id=0` in future versions. The config can simply be saved and uploaded again to be fixed.\n",
      "  warnings.warn(\n",
      "The tokenizer class you load from this checkpoint is not the same type as the class this function is called from. It may result in unexpected tokenization. \n",
      "The tokenizer class you load from this checkpoint is 'RagTokenizer'. \n",
      "The class this function is called from is 'DPRQuestionEncoderTokenizer'.\n",
      "The tokenizer class you load from this checkpoint is not the same type as the class this function is called from. It may result in unexpected tokenization. \n",
      "The tokenizer class you load from this checkpoint is 'RagTokenizer'. \n",
      "The class this function is called from is 'DPRQuestionEncoderTokenizerFast'.\n",
      "The tokenizer class you load from this checkpoint is not the same type as the class this function is called from. It may result in unexpected tokenization. \n",
      "The tokenizer class you load from this checkpoint is 'RagTokenizer'. \n",
      "The class this function is called from is 'BartTokenizer'.\n",
      "The tokenizer class you load from this checkpoint is not the same type as the class this function is called from. It may result in unexpected tokenization. \n",
      "The tokenizer class you load from this checkpoint is 'RagTokenizer'. \n",
      "The class this function is called from is 'BartTokenizerFast'.\n",
      "Some weights of the model checkpoint at facebook/rag-token-nq were not used when initializing RagTokenForGeneration: ['rag.question_encoder.question_encoder.bert_model.pooler.dense.bias', 'rag.question_encoder.question_encoder.bert_model.pooler.dense.weight']\n",
      "- This IS expected if you are initializing RagTokenForGeneration from the checkpoint of a model trained on another task or with another architecture (e.g. initializing a BertForSequenceClassification model from a BertForPreTraining model).\n",
      "- This IS NOT expected if you are initializing RagTokenForGeneration from the checkpoint of a model that you expect to be exactly identical (initializing a BertForSequenceClassification model from a BertForSequenceClassification model).\n"
     ]
    }
   ],
   "source": [
    "# Load the RAG tokenizer and model\n",
    "tokenizer = RagTokenizer.from_pretrained('facebook/rag-token-nq')\n",
    "model = RagTokenForGeneration.from_pretrained('facebook/rag-token-nq')\n",
    "\n",
    "# Load the retriever (which needs a corpus or index)\n",
    "#retriever = RagRetriever.from_pretrained('facebook/rag-token-nq', index_name=\"exact\", use_dummy_dataset=True)"
   ]
  },
  {
   "cell_type": "code",
   "execution_count": 3,
   "id": "968f21868c684f1",
   "metadata": {
    "ExecuteTime": {
     "end_time": "2024-11-20T21:44:55.342999Z",
     "start_time": "2024-11-20T21:44:55.335741Z"
    }
   },
   "outputs": [],
   "source": [
    "def get_inputs(file_path):\n",
    "    read_inputs = []\n",
    "    with open(file_path, 'r') as f:\n",
    "        while True:\n",
    "            line = f.readline()\n",
    "            if not line:\n",
    "                break\n",
    "            clean_line = line.strip()\n",
    "            if not clean_line:\n",
    "                continue\n",
    "            read_inputs.append(clean_line)\n",
    "    return read_inputs"
   ]
  },
  {
   "cell_type": "code",
   "execution_count": 4,
   "id": "874a89fc2675ba0a",
   "metadata": {
    "ExecuteTime": {
     "end_time": "2024-11-20T21:44:55.367019Z",
     "start_time": "2024-11-20T21:44:55.344010Z"
    }
   },
   "outputs": [],
   "source": [
    "# Input queries\n",
    "queries = get_inputs('../data-input/questions.txt')\n",
    "\n",
    "# Tokenize the input query\n",
    "inputs = tokenizer(queries, padding=True, truncation=True, return_tensors=\"pt\")"
   ]
  },
  {
   "cell_type": "code",
   "execution_count": 5,
   "id": "88d39e57959ecc76",
   "metadata": {
    "ExecuteTime": {
     "end_time": "2024-11-20T21:44:56.056841Z",
     "start_time": "2024-11-20T21:44:55.368869Z"
    }
   },
   "outputs": [],
   "source": [
    "# Get the embeddings of the query\n",
    "with torch.no_grad():\n",
    "    input_ids = inputs['input_ids']\n",
    "    attention_mask = inputs['attention_mask']\n",
    "    embeddings = model.question_encoder(input_ids, attention_mask=attention_mask)[0]"
   ]
  },
  {
   "cell_type": "code",
   "execution_count": 6,
   "id": "7077da9407ab4fe9",
   "metadata": {
    "ExecuteTime": {
     "end_time": "2024-11-20T21:44:57.842546Z",
     "start_time": "2024-11-20T21:44:56.057898Z"
    }
   },
   "outputs": [],
   "source": [
    "custom_docs = get_inputs('../data-input/documents.txt')\n",
    "docs_input = tokenizer(custom_docs, padding=True, truncation=True, return_tensors=\"pt\")\n",
    "with torch.no_grad():\n",
    "    docs_input_ids = docs_input['input_ids']\n",
    "    docs_attention_mask = docs_input['attention_mask']\n",
    "    docs_embeddings = model.question_encoder(docs_input_ids, attention_mask=docs_attention_mask)[0]"
   ]
  },
  {
   "cell_type": "code",
   "execution_count": 7,
   "id": "c777a9d751ebc5be",
   "metadata": {
    "ExecuteTime": {
     "end_time": "2024-11-20T21:44:57.847564Z",
     "start_time": "2024-11-20T21:44:57.843991Z"
    }
   },
   "outputs": [],
   "source": [
    "dimension = docs_embeddings.shape[1]\n",
    "index = faiss.IndexFlatL2(dimension)\n",
    "index.add(docs_embeddings)"
   ]
  },
  {
   "cell_type": "code",
   "execution_count": 8,
   "id": "383606a58a094c38",
   "metadata": {
    "ExecuteTime": {
     "end_time": "2024-11-20T21:44:57.869921Z",
     "start_time": "2024-11-20T21:44:57.848603Z"
    }
   },
   "outputs": [],
   "source": [
    "k = 3\n",
    "distances, indices = index.search(embeddings, k)"
   ]
  },
  {
   "cell_type": "code",
   "execution_count": 9,
   "id": "59a4a4a9aa71094a",
   "metadata": {
    "ExecuteTime": {
     "end_time": "2024-11-20T21:44:57.877947Z",
     "start_time": "2024-11-20T21:44:57.870952Z"
    }
   },
   "outputs": [],
   "source": [
    "state = {\n",
    "    'questions': queries,\n",
    "    'question_embeddings': embeddings,\n",
    "    'documents': custom_docs,\n",
    "    'document_embeddings': docs_embeddings,\n",
    "}"
   ]
  },
  {
   "cell_type": "code",
   "execution_count": 10,
   "id": "98a9be9fa8b9028",
   "metadata": {
    "ExecuteTime": {
     "end_time": "2024-11-20T21:44:57.900319Z",
     "start_time": "2024-11-20T21:44:57.878926Z"
    }
   },
   "outputs": [],
   "source": [
    "torch.save(state, '../data-output/embeddings.pt')"
   ]
  },
  {
   "cell_type": "code",
   "execution_count": null,
   "id": "393e26f7c0f58c89",
   "metadata": {},
   "outputs": [],
   "source": []
  }
 ],
 "metadata": {
  "kernelspec": {
   "display_name": "Python 3 (ipykernel)",
   "language": "python",
   "name": "python3"
  },
  "language_info": {
   "codemirror_mode": {
    "name": "ipython",
    "version": 3
   },
   "file_extension": ".py",
   "mimetype": "text/x-python",
   "name": "python",
   "nbconvert_exporter": "python",
   "pygments_lexer": "ipython3",
   "version": "3.12.7"
  }
 },
 "nbformat": 4,
 "nbformat_minor": 5
}
